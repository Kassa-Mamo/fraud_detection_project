{
 "cells": [
  {
   "cell_type": "code",
   "execution_count": null,
   "metadata": {},
   "outputs": [],
   "source": [
    "import pandas as pd\n",
    "import numpy as np\n",
    "import seaborn as sns\n",
    "import matplotlib.pyplot as plt\n",
    "\n",
    "# Load dataset\n",
    "df = pd.read_csv('C:/Users/user/Desktop/10 Academy- Machine-Learning/10 Academy W8 & 9/fraud_detection_project/data/Fraud_Data.csv')\n",
    "\n",
    "# Display first few rows\n",
    "df.head()\n",
    "\n",
    "# Basic EDA\n",
    "print(df.describe())\n",
    "\n",
    "# Checking for missing values\n",
    "print(df.isnull().sum())\n",
    "\n",
    "# Visualizing the distribution of the target variable (fraudulent or not)\n",
    "sns.countplot(x='Class', data=df)\n",
    "plt.title('Distribution of Fraudulent and Non-Fraudulent Transactions')\n",
    "plt.show()\n",
    "\n",
    "# Preprocessing: Removing missing values and duplicates\n",
    "df_cleaned = df.dropna().drop_duplicates()\n",
    "\n",
    "# Feature Engineering: Example, create a 'Transaction Amount Range' feature\n",
    "df_cleaned['Amount_Range'] = pd.cut(df_cleaned['Amount'], bins=[0, 50, 100, 500, 1000, 5000], labels=['Low', 'Medium', 'High', 'Very High', 'Extremely High'])\n",
    "\n",
    "# Saving cleaned data for model training\n",
    "df_cleaned.to_csv('C:/Users/user/Desktop/10 Academy- Machine-Learning/10 Academy W8 & 9/fraud_detection_project/data/Fraud_Data_cleaned.csv', index=False)\n"
   ]
  }
 ],
 "metadata": {
  "kernelspec": {
   "display_name": "venv",
   "language": "python",
   "name": "python3"
  },
  "language_info": {
   "codemirror_mode": {
    "name": "ipython",
    "version": 3
   },
   "file_extension": ".py",
   "mimetype": "text/x-python",
   "name": "python",
   "nbconvert_exporter": "python",
   "pygments_lexer": "ipython3",
   "version": "3.13.2"
  }
 },
 "nbformat": 4,
 "nbformat_minor": 2
}
