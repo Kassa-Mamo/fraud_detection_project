{
 "cells": [
  {
   "cell_type": "code",
   "execution_count": null,
   "metadata": {},
   "outputs": [],
   "source": [
    "import shap\n",
    "import lime\n",
    "from lime.lime_tabular import LimeTabularExplainer\n",
    "import pandas as pd\n",
    "import joblib\n",
    "\n",
    "# Load trained model\n",
    "model = joblib.load('C:/Users/user/Desktop/10 Academy- Machine-Learning/10 Academy W8 & 9/fraud_detection_project/models/fraud_detection_model.pkl')\n",
    "\n",
    "# Load cleaned data for SHAP and LIME\n",
    "df = pd.read_csv('C:/Users/user/Desktop/10 Academy- Machine-Learning/10 Academy W8 & 9/fraud_detection_project/data/Fraud_Data_cleaned.csv')\n",
    "\n",
    "# SHAP explanation\n",
    "explainer = shap.TreeExplainer(model)\n",
    "shap_values = explainer.shap_values(df.drop(columns=['Class']))\n",
    "\n",
    "# SHAP summary plot\n",
    "shap.summary_plot(shap_values[1], df.drop(columns=['Class']))\n",
    "\n",
    "# LIME explanation\n",
    "explainer_lime = LimeTabularExplainer(df.drop(columns=['Class']).values, training_labels=df['Class'].values, mode='classification')\n",
    "exp = explainer_lime.explain_instance(df.drop(columns=['Class']).iloc[0].values, model.predict_proba)\n",
    "\n",
    "# Visualize LIME explanation\n",
    "exp.as_pyplot_figure()\n"
   ]
  }
 ],
 "metadata": {
  "kernelspec": {
   "display_name": "venv",
   "language": "python",
   "name": "python3"
  },
  "language_info": {
   "name": "python",
   "version": "3.13.2"
  }
 },
 "nbformat": 4,
 "nbformat_minor": 2
}
