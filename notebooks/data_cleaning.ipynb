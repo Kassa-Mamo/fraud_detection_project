{
 "cells": [
  {
   "cell_type": "code",
   "execution_count": 1,
   "metadata": {},
   "outputs": [
    {
     "name": "stdout",
     "output_type": "stream",
     "text": [
      "Credit Card Data:\n",
      "   Time        V1        V2        V3        V4        V5        V6        V7  \\\n",
      "0   0.0 -1.359807 -0.072781  2.536347  1.378155 -0.338321  0.462388  0.239599   \n",
      "1   0.0  1.191857  0.266151  0.166480  0.448154  0.060018 -0.082361 -0.078803   \n",
      "2   1.0 -1.358354 -1.340163  1.773209  0.379780 -0.503198  1.800499  0.791461   \n",
      "3   1.0 -0.966272 -0.185226  1.792993 -0.863291 -0.010309  1.247203  0.237609   \n",
      "4   2.0 -1.158233  0.877737  1.548718  0.403034 -0.407193  0.095921  0.592941   \n",
      "\n",
      "         V8        V9  ...       V21       V22       V23       V24       V25  \\\n",
      "0  0.098698  0.363787  ... -0.018307  0.277838 -0.110474  0.066928  0.128539   \n",
      "1  0.085102 -0.255425  ... -0.225775 -0.638672  0.101288 -0.339846  0.167170   \n",
      "2  0.247676 -1.514654  ...  0.247998  0.771679  0.909412 -0.689281 -0.327642   \n",
      "3  0.377436 -1.387024  ... -0.108300  0.005274 -0.190321 -1.175575  0.647376   \n",
      "4 -0.270533  0.817739  ... -0.009431  0.798278 -0.137458  0.141267 -0.206010   \n",
      "\n",
      "        V26       V27       V28  Amount  Class  \n",
      "0 -0.189115  0.133558 -0.021053  149.62      0  \n",
      "1  0.125895 -0.008983  0.014724    2.69      0  \n",
      "2 -0.139097 -0.055353 -0.059752  378.66      0  \n",
      "3 -0.221929  0.062723  0.061458  123.50      0  \n",
      "4  0.502292  0.219422  0.215153   69.99      0  \n",
      "\n",
      "[5 rows x 31 columns] \n",
      "\n",
      "Fraud Data:\n",
      "   user_id          signup_time        purchase_time  purchase_value  \\\n",
      "0    22058  2015-02-24 22:55:49  2015-04-18 02:47:11              34   \n",
      "1   333320  2015-06-07 20:39:50  2015-06-08 01:38:54              16   \n",
      "2     1359  2015-01-01 18:52:44  2015-01-01 18:52:45              15   \n",
      "3   150084  2015-04-28 21:13:25  2015-05-04 13:54:50              44   \n",
      "4   221365  2015-07-21 07:09:52  2015-09-09 18:40:53              39   \n",
      "\n",
      "       device_id source browser sex  age    ip_address  class  \n",
      "0  QVPSPJUOCKZAR    SEO  Chrome   M   39  7.327584e+08      0  \n",
      "1  EOGFQPIZPYXFZ    Ads  Chrome   F   53  3.503114e+08      0  \n",
      "2  YSSKYOSJHPPLJ    SEO   Opera   M   53  2.621474e+09      1  \n",
      "3  ATGTXKYKUDUQN    SEO  Safari   M   41  3.840542e+09      0  \n",
      "4  NAUITBZFJKHWW    Ads  Safari   M   45  4.155831e+08      0   \n",
      "\n",
      "IP Address Data:\n",
      "   lower_bound_ip_address  upper_bound_ip_address    country\n",
      "0              16777216.0                16777471  Australia\n",
      "1              16777472.0                16777727      China\n",
      "2              16777728.0                16778239      China\n",
      "3              16778240.0                16779263  Australia\n",
      "4              16779264.0                16781311      China \n",
      "\n"
     ]
    }
   ],
   "source": [
    "# Import necessary libraries\n",
    "import pandas as pd\n",
    "\n",
    "# Paths to the datasets (adjusted according to your file structure)\n",
    "creditcard_path = \"C:/Users/user/Desktop/10 Academy- Machine-Learning/10 Academy W8 & 9/Data/creditcard.csv\"\n",
    "fraud_data_path = \"C:/Users/user/Desktop/10 Academy- Machine-Learning/10 Academy W8 & 9/Data/Fraud_Data.csv\"\n",
    "ip_address_path = \"C:/Users/user/Desktop/10 Academy- Machine-Learning/10 Academy W8 & 9/Data/IpAddress_to_Country.csv\"\n",
    "\n",
    "# Load the datasets\n",
    "creditcard_df = pd.read_csv(creditcard_path)\n",
    "fraud_data_df = pd.read_csv(fraud_data_path)\n",
    "ip_address_df = pd.read_csv(ip_address_path)\n",
    "\n",
    "# Display first few rows of each dataframe to understand structure\n",
    "print(\"Credit Card Data:\")\n",
    "print(creditcard_df.head(), \"\\n\")\n",
    "\n",
    "print(\"Fraud Data:\")\n",
    "print(fraud_data_df.head(), \"\\n\")\n",
    "\n",
    "print(\"IP Address Data:\")\n",
    "print(ip_address_df.head(), \"\\n\")\n"
   ]
  },
  {
   "cell_type": "code",
   "execution_count": 2,
   "metadata": {},
   "outputs": [
    {
     "name": "stdout",
     "output_type": "stream",
     "text": [
      "Credit Card Data:\n",
      "   Time        V1        V2        V3        V4        V5        V6        V7  \\\n",
      "0   0.0 -1.359807 -0.072781  2.536347  1.378155 -0.338321  0.462388  0.239599   \n",
      "1   0.0  1.191857  0.266151  0.166480  0.448154  0.060018 -0.082361 -0.078803   \n",
      "2   1.0 -1.358354 -1.340163  1.773209  0.379780 -0.503198  1.800499  0.791461   \n",
      "3   1.0 -0.966272 -0.185226  1.792993 -0.863291 -0.010309  1.247203  0.237609   \n",
      "4   2.0 -1.158233  0.877737  1.548718  0.403034 -0.407193  0.095921  0.592941   \n",
      "\n",
      "         V8        V9       V10       V11       V12       V13       V14  \\\n",
      "0  0.098698  0.363787  0.090794 -0.551600 -0.617801 -0.991390 -0.311169   \n",
      "1  0.085102 -0.255425 -0.166974  1.612727  1.065235  0.489095 -0.143772   \n",
      "2  0.247676 -1.514654  0.207643  0.624501  0.066084  0.717293 -0.165946   \n",
      "3  0.377436 -1.387024 -0.054952 -0.226487  0.178228  0.507757 -0.287924   \n",
      "4 -0.270533  0.817739  0.753074 -0.822843  0.538196  1.345852 -1.119670   \n",
      "\n",
      "        V15       V16       V17       V18       V19       V20       V21  \\\n",
      "0  1.468177 -0.470401  0.207971  0.025791  0.403993  0.251412 -0.018307   \n",
      "1  0.635558  0.463917 -0.114805 -0.183361 -0.145783 -0.069083 -0.225775   \n",
      "2  2.345865 -2.890083  1.109969 -0.121359 -2.261857  0.524980  0.247998   \n",
      "3 -0.631418 -1.059647 -0.684093  1.965775 -1.232622 -0.208038 -0.108300   \n",
      "4  0.175121 -0.451449 -0.237033 -0.038195  0.803487  0.408542 -0.009431   \n",
      "\n",
      "        V22       V23       V24       V25       V26       V27       V28  \\\n",
      "0  0.277838 -0.110474  0.066928  0.128539 -0.189115  0.133558 -0.021053   \n",
      "1 -0.638672  0.101288 -0.339846  0.167170  0.125895 -0.008983  0.014724   \n",
      "2  0.771679  0.909412 -0.689281 -0.327642 -0.139097 -0.055353 -0.059752   \n",
      "3  0.005274 -0.190321 -1.175575  0.647376 -0.221929  0.062723  0.061458   \n",
      "4  0.798278 -0.137458  0.141267 -0.206010  0.502292  0.219422  0.215153   \n",
      "\n",
      "   Amount  Class  \n",
      "0  149.62      0  \n",
      "1    2.69      0  \n",
      "2  378.66      0  \n",
      "3  123.50      0  \n",
      "4   69.99      0   \n",
      "\n",
      "Fraud Data:\n",
      "   user_id          signup_time        purchase_time  purchase_value  \\\n",
      "0    22058  2015-02-24 22:55:49  2015-04-18 02:47:11              34   \n",
      "1   333320  2015-06-07 20:39:50  2015-06-08 01:38:54              16   \n",
      "2     1359  2015-01-01 18:52:44  2015-01-01 18:52:45              15   \n",
      "3   150084  2015-04-28 21:13:25  2015-05-04 13:54:50              44   \n",
      "4   221365  2015-07-21 07:09:52  2015-09-09 18:40:53              39   \n",
      "\n",
      "       device_id source browser sex  age    ip_address  class  \n",
      "0  QVPSPJUOCKZAR    SEO  Chrome   M   39  7.327584e+08      0  \n",
      "1  EOGFQPIZPYXFZ    Ads  Chrome   F   53  3.503114e+08      0  \n",
      "2  YSSKYOSJHPPLJ    SEO   Opera   M   53  2.621474e+09      1  \n",
      "3  ATGTXKYKUDUQN    SEO  Safari   M   41  3.840542e+09      0  \n",
      "4  NAUITBZFJKHWW    Ads  Safari   M   45  4.155831e+08      0   \n",
      "\n",
      "IP Address Data:\n",
      "   lower_bound_ip_address  upper_bound_ip_address    country\n",
      "0              16777216.0                16777471  Australia\n",
      "1              16777472.0                16777727      China\n",
      "2              16777728.0                16778239      China\n",
      "3              16778240.0                16779263  Australia\n",
      "4              16779264.0                16781311      China \n",
      "\n"
     ]
    }
   ],
   "source": [
    "import pandas as pd\n",
    "\n",
    "# Set display options to show more rows and columns\n",
    "pd.set_option('display.max_rows', 100)  # Show 100 rows\n",
    "pd.set_option('display.max_columns', 50)  # Show 50 columns\n",
    "\n",
    "# Display the first 5 rows of each dataset\n",
    "print(\"Credit Card Data:\")\n",
    "print(creditcard_df.head(), \"\\n\")\n",
    "\n",
    "print(\"Fraud Data:\")\n",
    "print(fraud_data_df.head(), \"\\n\")\n",
    "\n",
    "print(\"IP Address Data:\")\n",
    "print(ip_address_df.head(), \"\\n\")\n"
   ]
  },
  {
   "cell_type": "code",
   "execution_count": 3,
   "metadata": {},
   "outputs": [
    {
     "name": "stdout",
     "output_type": "stream",
     "text": [
      "Credit Card Data Info:\n",
      "<class 'pandas.core.frame.DataFrame'>\n",
      "RangeIndex: 284807 entries, 0 to 284806\n",
      "Data columns (total 31 columns):\n",
      " #   Column  Non-Null Count   Dtype  \n",
      "---  ------  --------------   -----  \n",
      " 0   Time    284807 non-null  float64\n",
      " 1   V1      284807 non-null  float64\n",
      " 2   V2      284807 non-null  float64\n",
      " 3   V3      284807 non-null  float64\n",
      " 4   V4      284807 non-null  float64\n",
      " 5   V5      284807 non-null  float64\n",
      " 6   V6      284807 non-null  float64\n",
      " 7   V7      284807 non-null  float64\n",
      " 8   V8      284807 non-null  float64\n",
      " 9   V9      284807 non-null  float64\n",
      " 10  V10     284807 non-null  float64\n",
      " 11  V11     284807 non-null  float64\n",
      " 12  V12     284807 non-null  float64\n",
      " 13  V13     284807 non-null  float64\n",
      " 14  V14     284807 non-null  float64\n",
      " 15  V15     284807 non-null  float64\n",
      " 16  V16     284807 non-null  float64\n",
      " 17  V17     284807 non-null  float64\n",
      " 18  V18     284807 non-null  float64\n",
      " 19  V19     284807 non-null  float64\n",
      " 20  V20     284807 non-null  float64\n",
      " 21  V21     284807 non-null  float64\n",
      " 22  V22     284807 non-null  float64\n",
      " 23  V23     284807 non-null  float64\n",
      " 24  V24     284807 non-null  float64\n",
      " 25  V25     284807 non-null  float64\n",
      " 26  V26     284807 non-null  float64\n",
      " 27  V27     284807 non-null  float64\n",
      " 28  V28     284807 non-null  float64\n",
      " 29  Amount  284807 non-null  float64\n",
      " 30  Class   284807 non-null  int64  \n",
      "dtypes: float64(30), int64(1)\n",
      "memory usage: 67.4 MB\n",
      "None \n",
      "\n",
      "Credit Card Data Statistics:\n",
      "                Time            V1            V2            V3            V4  \\\n",
      "count  284807.000000  2.848070e+05  2.848070e+05  2.848070e+05  2.848070e+05   \n",
      "mean    94813.859575  1.168375e-15  3.416908e-16 -1.379537e-15  2.074095e-15   \n",
      "std     47488.145955  1.958696e+00  1.651309e+00  1.516255e+00  1.415869e+00   \n",
      "min         0.000000 -5.640751e+01 -7.271573e+01 -4.832559e+01 -5.683171e+00   \n",
      "25%     54201.500000 -9.203734e-01 -5.985499e-01 -8.903648e-01 -8.486401e-01   \n",
      "50%     84692.000000  1.810880e-02  6.548556e-02  1.798463e-01 -1.984653e-02   \n",
      "75%    139320.500000  1.315642e+00  8.037239e-01  1.027196e+00  7.433413e-01   \n",
      "max    172792.000000  2.454930e+00  2.205773e+01  9.382558e+00  1.687534e+01   \n",
      "\n",
      "                 V5            V6            V7            V8            V9  \\\n",
      "count  2.848070e+05  2.848070e+05  2.848070e+05  2.848070e+05  2.848070e+05   \n",
      "mean   9.604066e-16  1.487313e-15 -5.556467e-16  1.213481e-16 -2.406331e-15   \n",
      "std    1.380247e+00  1.332271e+00  1.237094e+00  1.194353e+00  1.098632e+00   \n",
      "min   -1.137433e+02 -2.616051e+01 -4.355724e+01 -7.321672e+01 -1.343407e+01   \n",
      "25%   -6.915971e-01 -7.682956e-01 -5.540759e-01 -2.086297e-01 -6.430976e-01   \n",
      "50%   -5.433583e-02 -2.741871e-01  4.010308e-02  2.235804e-02 -5.142873e-02   \n",
      "75%    6.119264e-01  3.985649e-01  5.704361e-01  3.273459e-01  5.971390e-01   \n",
      "max    3.480167e+01  7.330163e+01  1.205895e+02  2.000721e+01  1.559499e+01   \n",
      "\n",
      "                V10           V11           V12           V13           V14  \\\n",
      "count  2.848070e+05  2.848070e+05  2.848070e+05  2.848070e+05  2.848070e+05   \n",
      "mean   2.239053e-15  1.673327e-15 -1.247012e-15  8.190001e-16  1.207294e-15   \n",
      "std    1.088850e+00  1.020713e+00  9.992014e-01  9.952742e-01  9.585956e-01   \n",
      "min   -2.458826e+01 -4.797473e+00 -1.868371e+01 -5.791881e+00 -1.921433e+01   \n",
      "25%   -5.354257e-01 -7.624942e-01 -4.055715e-01 -6.485393e-01 -4.255740e-01   \n",
      "50%   -9.291738e-02 -3.275735e-02  1.400326e-01 -1.356806e-02  5.060132e-02   \n",
      "75%    4.539234e-01  7.395934e-01  6.182380e-01  6.625050e-01  4.931498e-01   \n",
      "max    2.374514e+01  1.201891e+01  7.848392e+00  7.126883e+00  1.052677e+01   \n",
      "\n",
      "                V15           V16           V17           V18           V19  \\\n",
      "count  2.848070e+05  2.848070e+05  2.848070e+05  2.848070e+05  2.848070e+05   \n",
      "mean   4.887456e-15  1.437716e-15 -3.772171e-16  9.564149e-16  1.039917e-15   \n",
      "std    9.153160e-01  8.762529e-01  8.493371e-01  8.381762e-01  8.140405e-01   \n",
      "min   -4.498945e+00 -1.412985e+01 -2.516280e+01 -9.498746e+00 -7.213527e+00   \n",
      "25%   -5.828843e-01 -4.680368e-01 -4.837483e-01 -4.988498e-01 -4.562989e-01   \n",
      "50%    4.807155e-02  6.641332e-02 -6.567575e-02 -3.636312e-03  3.734823e-03   \n",
      "75%    6.488208e-01  5.232963e-01  3.996750e-01  5.008067e-01  4.589494e-01   \n",
      "max    8.877742e+00  1.731511e+01  9.253526e+00  5.041069e+00  5.591971e+00   \n",
      "\n",
      "                V20           V21           V22           V23           V24  \\\n",
      "count  2.848070e+05  2.848070e+05  2.848070e+05  2.848070e+05  2.848070e+05   \n",
      "mean   6.406204e-16  1.654067e-16 -3.568593e-16  2.578648e-16  4.473266e-15   \n",
      "std    7.709250e-01  7.345240e-01  7.257016e-01  6.244603e-01  6.056471e-01   \n",
      "min   -5.449772e+01 -3.483038e+01 -1.093314e+01 -4.480774e+01 -2.836627e+00   \n",
      "25%   -2.117214e-01 -2.283949e-01 -5.423504e-01 -1.618463e-01 -3.545861e-01   \n",
      "50%   -6.248109e-02 -2.945017e-02  6.781943e-03 -1.119293e-02  4.097606e-02   \n",
      "75%    1.330408e-01  1.863772e-01  5.285536e-01  1.476421e-01  4.395266e-01   \n",
      "max    3.942090e+01  2.720284e+01  1.050309e+01  2.252841e+01  4.584549e+00   \n",
      "\n",
      "                V25           V26           V27           V28         Amount  \\\n",
      "count  2.848070e+05  2.848070e+05  2.848070e+05  2.848070e+05  284807.000000   \n",
      "mean   5.340915e-16  1.683437e-15 -3.660091e-16 -1.227390e-16      88.349619   \n",
      "std    5.212781e-01  4.822270e-01  4.036325e-01  3.300833e-01     250.120109   \n",
      "min   -1.029540e+01 -2.604551e+00 -2.256568e+01 -1.543008e+01       0.000000   \n",
      "25%   -3.171451e-01 -3.269839e-01 -7.083953e-02 -5.295979e-02       5.600000   \n",
      "50%    1.659350e-02 -5.213911e-02  1.342146e-03  1.124383e-02      22.000000   \n",
      "75%    3.507156e-01  2.409522e-01  9.104512e-02  7.827995e-02      77.165000   \n",
      "max    7.519589e+00  3.517346e+00  3.161220e+01  3.384781e+01   25691.160000   \n",
      "\n",
      "               Class  \n",
      "count  284807.000000  \n",
      "mean        0.001727  \n",
      "std         0.041527  \n",
      "min         0.000000  \n",
      "25%         0.000000  \n",
      "50%         0.000000  \n",
      "75%         0.000000  \n",
      "max         1.000000   \n",
      "\n"
     ]
    }
   ],
   "source": [
    "# Display basic info about the credit card dataset\n",
    "print(\"Credit Card Data Info:\")\n",
    "print(creditcard_df.info(), \"\\n\")\n",
    "\n",
    "# Display summary statistics (mean, min, max) for numeric columns\n",
    "print(\"Credit Card Data Statistics:\")\n",
    "print(creditcard_df.describe(), \"\\n\")\n"
   ]
  },
  {
   "cell_type": "code",
   "execution_count": 6,
   "metadata": {},
   "outputs": [
    {
     "name": "stdout",
     "output_type": "stream",
     "text": [
      "Index(['user_id', 'signup_time', 'purchase_time', 'purchase_value',\n",
      "       'device_id', 'source', 'browser', 'sex', 'age', 'ip_address', 'class'],\n",
      "      dtype='object')\n"
     ]
    }
   ],
   "source": [
    "# Check the column names of fraud_data_df\n",
    "print(fraud_data_df.columns)\n",
    "\n",
    "# If 'Amount' is not in the list, identify the correct column name\n"
   ]
  },
  {
   "cell_type": "code",
   "execution_count": 7,
   "metadata": {},
   "outputs": [
    {
     "name": "stdout",
     "output_type": "stream",
     "text": [
      "Index         132\n",
      "Time      1139228\n",
      "V1        2278456\n",
      "V2        2278456\n",
      "V3        2278456\n",
      "V4        2278456\n",
      "V5        2278456\n",
      "V6        2278456\n",
      "V7        2278456\n",
      "V8        2278456\n",
      "V9        2278456\n",
      "V10       2278456\n",
      "V11       2278456\n",
      "V12       2278456\n",
      "V13       2278456\n",
      "V14       2278456\n",
      "V15       2278456\n",
      "V16       2278456\n",
      "V17       2278456\n",
      "V18       2278456\n",
      "V19       2278456\n",
      "V20       2278456\n",
      "V21       2278456\n",
      "V22       2278456\n",
      "V23       2278456\n",
      "V24       2278456\n",
      "V25       2278456\n",
      "V26       2278456\n",
      "V27       2278456\n",
      "V28       2278456\n",
      "Amount    2278456\n",
      "Class     2278456\n",
      "dtype: int64\n",
      "Index                  132\n",
      "user_id            1208896\n",
      "signup_time       10275616\n",
      "purchase_time     10275616\n",
      "purchase_value      604448\n",
      "device_id          9368944\n",
      "source             7949672\n",
      "browser            8185186\n",
      "sex                7555600\n",
      "age                1208896\n",
      "ip_address         1208896\n",
      "class              1208896\n",
      "dtype: int64\n"
     ]
    }
   ],
   "source": [
    "# Convert columns to more efficient types\n",
    "creditcard_df['Time'] = creditcard_df['Time'].astype('float32')\n",
    "fraud_data_df['purchase_value'] = fraud_data_df['purchase_value'].astype('float32')\n",
    "\n",
    "# Check memory usage\n",
    "print(creditcard_df.memory_usage(deep=True))\n",
    "print(fraud_data_df.memory_usage(deep=True))\n"
   ]
  },
  {
   "cell_type": "code",
   "execution_count": 8,
   "metadata": {},
   "outputs": [
    {
     "name": "stdout",
     "output_type": "stream",
     "text": [
      "Index                  132\n",
      "user_id            1208896\n",
      "signup_time       10275616\n",
      "purchase_time     10275616\n",
      "purchase_value      604448\n",
      "device_id          9368944\n",
      "source              151379\n",
      "browser             151555\n",
      "sex                 151320\n",
      "age                1208896\n",
      "ip_address         5979656\n",
      "class              1208896\n",
      "dtype: int64\n"
     ]
    }
   ],
   "source": [
    "# Convert string columns to category type\n",
    "fraud_data_df['source'] = fraud_data_df['source'].astype('category')\n",
    "fraud_data_df['browser'] = fraud_data_df['browser'].astype('category')\n",
    "fraud_data_df['sex'] = fraud_data_df['sex'].astype('category')\n",
    "fraud_data_df['ip_address'] = fraud_data_df['ip_address'].astype('category')\n",
    "\n",
    "# Check memory usage again\n",
    "print(fraud_data_df.memory_usage(deep=True))\n"
   ]
  },
  {
   "cell_type": "code",
   "execution_count": 9,
   "metadata": {},
   "outputs": [
    {
     "name": "stdout",
     "output_type": "stream",
     "text": [
      "Index                 132\n",
      "user_id           1208896\n",
      "signup_time       1208896\n",
      "purchase_time     1208896\n",
      "purchase_value     604448\n",
      "device_id         9368944\n",
      "source             151379\n",
      "browser            151555\n",
      "sex                151320\n",
      "age               1208896\n",
      "ip_address        5979656\n",
      "class             1208896\n",
      "dtype: int64\n"
     ]
    }
   ],
   "source": [
    "# Convert 'signup_time' and 'purchase_time' to datetime if they are currently strings\n",
    "fraud_data_df['signup_time'] = pd.to_datetime(fraud_data_df['signup_time'], errors='coerce')\n",
    "fraud_data_df['purchase_time'] = pd.to_datetime(fraud_data_df['purchase_time'], errors='coerce')\n",
    "\n",
    "# Convert numeric columns to more efficient types\n",
    "fraud_data_df['purchase_value'] = fraud_data_df['purchase_value'].astype('float32')\n",
    "\n",
    "# Check memory usage again\n",
    "print(fraud_data_df.memory_usage(deep=True))\n"
   ]
  },
  {
   "cell_type": "code",
   "execution_count": 11,
   "metadata": {},
   "outputs": [],
   "source": [
    "# Select numerical columns\n",
    "numerical_columns = fraud_data_df.select_dtypes(include=['float64', 'int64']).columns\n",
    "\n",
    "# Impute missing values with the median for numerical columns\n",
    "fraud_data_df[numerical_columns] = fraud_data_df[numerical_columns].fillna(fraud_data_df[numerical_columns].median())\n"
   ]
  },
  {
   "cell_type": "code",
   "execution_count": 12,
   "metadata": {},
   "outputs": [],
   "source": [
    "# Select categorical columns\n",
    "categorical_columns = fraud_data_df.select_dtypes(include=['object', 'category']).columns\n",
    "\n",
    "# Impute missing values with the mode for categorical columns\n",
    "for col in categorical_columns:\n",
    "    fraud_data_df[col] = fraud_data_df[col].fillna(fraud_data_df[col].mode()[0])\n"
   ]
  },
  {
   "cell_type": "code",
   "execution_count": 13,
   "metadata": {},
   "outputs": [
    {
     "name": "stdout",
     "output_type": "stream",
     "text": [
      "user_id           0\n",
      "signup_time       0\n",
      "purchase_time     0\n",
      "purchase_value    0\n",
      "device_id         0\n",
      "source            0\n",
      "browser           0\n",
      "sex               0\n",
      "age               0\n",
      "ip_address        0\n",
      "class             0\n",
      "dtype: int64\n"
     ]
    }
   ],
   "source": [
    "print(fraud_data_df.isnull().sum())\n"
   ]
  },
  {
   "cell_type": "code",
   "execution_count": 14,
   "metadata": {},
   "outputs": [],
   "source": [
    "from sklearn.model_selection import train_test_split\n",
    "\n",
    "X = fraud_data_df.drop('class', axis=1)  # Features (excluding the target column)\n",
    "y = fraud_data_df['class']  # Target column\n",
    "\n",
    "X_train, X_test, y_train, y_test = train_test_split(X, y, test_size=0.2, random_state=42)\n"
   ]
  },
  {
   "cell_type": "code",
   "execution_count": 15,
   "metadata": {},
   "outputs": [],
   "source": [
    "from sklearn.preprocessing import LabelEncoder\n",
    "\n",
    "# Label Encoding for 'sex'\n",
    "label_encoder = LabelEncoder()\n",
    "fraud_data_df['sex'] = label_encoder.fit_transform(fraud_data_df['sex'])\n",
    "\n",
    "# One-Hot Encoding for 'source' and 'browser'\n",
    "fraud_data_df = pd.get_dummies(fraud_data_df, columns=['source', 'browser'], drop_first=True)\n"
   ]
  },
  {
   "cell_type": "code",
   "execution_count": 16,
   "metadata": {},
   "outputs": [],
   "source": [
    "# Convert 'signup_time' and 'purchase_time' to datetime\n",
    "fraud_data_df['signup_time'] = pd.to_datetime(fraud_data_df['signup_time'], unit='s')\n",
    "fraud_data_df['purchase_time'] = pd.to_datetime(fraud_data_df['purchase_time'], unit='s')\n",
    "\n",
    "# Calculate the time difference between 'signup_time' and 'purchase_time'\n",
    "fraud_data_df['time_difference'] = (fraud_data_df['purchase_time'] - fraud_data_df['signup_time']).dt.total_seconds()\n",
    "\n",
    "# You can optionally drop the original time columns if not needed anymore\n",
    "fraud_data_df.drop(columns=['signup_time', 'purchase_time'], inplace=True)\n"
   ]
  },
  {
   "cell_type": "code",
   "execution_count": 17,
   "metadata": {},
   "outputs": [],
   "source": [
    "from sklearn.preprocessing import StandardScaler\n",
    "\n",
    "# Select numerical columns for scaling\n",
    "numerical_cols = ['purchase_value', 'age', 'time_difference']\n",
    "\n",
    "# Apply StandardScaler\n",
    "scaler = StandardScaler()\n",
    "fraud_data_df[numerical_cols] = scaler.fit_transform(fraud_data_df[numerical_cols])\n"
   ]
  },
  {
   "cell_type": "code",
   "execution_count": 18,
   "metadata": {},
   "outputs": [],
   "source": [
    "from sklearn.model_selection import train_test_split\n",
    "\n",
    "# Separate features and target variable\n",
    "X = fraud_data_df.drop(columns=['class'])  # Features\n",
    "y = fraud_data_df['class']  # Target variable (fraud or not)\n",
    "\n",
    "# Split the data into training and testing sets\n",
    "X_train, X_test, y_train, y_test = train_test_split(X, y, test_size=0.2, random_state=42)\n"
   ]
  },
  {
   "cell_type": "code",
   "execution_count": 19,
   "metadata": {},
   "outputs": [],
   "source": [
    "from scipy import stats\n",
    "\n",
    "# Remove outliers based on Z-score\n",
    "z_scores = stats.zscore(fraud_data_df[numerical_cols])\n",
    "fraud_data_df = fraud_data_df[(abs(z_scores) < 3).all(axis=1)]\n"
   ]
  },
  {
   "cell_type": "code",
   "execution_count": 23,
   "metadata": {},
   "outputs": [
    {
     "name": "stdout",
     "output_type": "stream",
     "text": [
      "Index(['user_id', 'purchase_value', 'device_id', 'sex', 'age', 'ip_address',\n",
      "       'class', 'source_Direct', 'source_SEO', 'browser_FireFox', 'browser_IE',\n",
      "       'browser_Opera', 'browser_Safari', 'time_difference'],\n",
      "      dtype='object')\n"
     ]
    }
   ],
   "source": [
    "print(fraud_data_df.columns)\n"
   ]
  },
  {
   "cell_type": "code",
   "execution_count": 24,
   "metadata": {},
   "outputs": [],
   "source": [
    "label_encoder = LabelEncoder()\n",
    "\n",
    "# Encoding the 'sex' column\n",
    "fraud_data_df['sex'] = label_encoder.fit_transform(fraud_data_df['sex'])\n"
   ]
  },
  {
   "cell_type": "code",
   "execution_count": 25,
   "metadata": {},
   "outputs": [],
   "source": [
    "label_encoder = LabelEncoder()\n",
    "\n",
    "# Encoding the 'class' column\n",
    "fraud_data_df['class'] = label_encoder.fit_transform(fraud_data_df['class'])\n"
   ]
  },
  {
   "cell_type": "code",
   "execution_count": 27,
   "metadata": {},
   "outputs": [],
   "source": [
    "# Define the features (X) and target (y)\n",
    "X = fraud_data_df.drop('class', axis=1)  # Dropping the target column\n",
    "y = fraud_data_df['class']  # Target column\n"
   ]
  },
  {
   "cell_type": "code",
   "execution_count": 28,
   "metadata": {},
   "outputs": [],
   "source": [
    "from sklearn.model_selection import train_test_split\n",
    "\n",
    "# Split the data (80% for training and 20% for testing)\n",
    "X_train, X_test, y_train, y_test = train_test_split(X, y, test_size=0.2, random_state=42)\n"
   ]
  },
  {
   "cell_type": "code",
   "execution_count": 30,
   "metadata": {},
   "outputs": [
    {
     "name": "stdout",
     "output_type": "stream",
     "text": [
      "user_id               int64\n",
      "purchase_value      float64\n",
      "device_id            object\n",
      "sex                   int64\n",
      "age                 float64\n",
      "ip_address         category\n",
      "source_Direct          bool\n",
      "source_SEO             bool\n",
      "browser_FireFox        bool\n",
      "browser_IE             bool\n",
      "browser_Opera          bool\n",
      "browser_Safari         bool\n",
      "time_difference     float64\n",
      "dtype: object\n"
     ]
    }
   ],
   "source": [
    "print(X_train.dtypes)\n"
   ]
  },
  {
   "cell_type": "code",
   "execution_count": null,
   "metadata": {},
   "outputs": [],
   "source": []
  }
 ],
 "metadata": {
  "kernelspec": {
   "display_name": "venv",
   "language": "python",
   "name": "python3"
  },
  "language_info": {
   "codemirror_mode": {
    "name": "ipython",
    "version": 3
   },
   "file_extension": ".py",
   "mimetype": "text/x-python",
   "name": "python",
   "nbconvert_exporter": "python",
   "pygments_lexer": "ipython3",
   "version": "3.13.2"
  }
 },
 "nbformat": 4,
 "nbformat_minor": 2
}
